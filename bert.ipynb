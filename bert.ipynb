{
 "cells": [
  {
   "cell_type": "code",
   "execution_count": 71,
   "id": "d0fca718",
   "metadata": {},
   "outputs": [],
   "source": [
    "from transformers import AutoModel,AutoTokenizer\n",
    "import torch"
   ]
  },
  {
   "cell_type": "code",
   "execution_count": 2,
   "id": "ed49910c",
   "metadata": {},
   "outputs": [],
   "source": [
    "model_name = \"../../model/bert-base-uncased\"\n",
    "tokenizer = AutoTokenizer.from_pretrained(model_name)\n",
    "model = AutoModel.from_pretrained(model_name,output_hidden_states=True,output_attentions=True).to(\"cuda\")\n",
    "sentences = \"this is a test sentence\""
   ]
  },
  {
   "cell_type": "markdown",
   "id": "862580a4",
   "metadata": {},
   "source": [
    "### model parameters"
   ]
  },
  {
   "cell_type": "markdown",
   "id": "e4b1ae14",
   "metadata": {},
   "source": [
    "1.模型详细结构\n",
    "- model\n",
    "\n",
    "2.模型整体结构\n",
    "- model.config\n",
    "\n",
    "3.模型参数\n",
    "- model.num_parameters()\n",
    "- eps 相当于$\\epsilon$\n",
    "- elementwise_affine 相当于bias\n",
    "$$\\mathrm{output}=\\mathrm{weight}\\cdot\\frac{\\mathrm{input}-\\mu}{\\sqrt{\\sigma^2+\\epsilon}}+\\mathrm{bias}$$\n",
    "\n",
    "- model.norm.weight :参考norm层详细的参数\n",
    "\n",
    "#### model(**tokens)\n",
    "1.model(**tokens) 解析\n",
    "- 输出得到last_hidden_state、pooler_output\n",
    "- last_hidden_state维度:(batch_size,sequence_length,hidden_size)\n",
    "- pooler_output维度:(batch_size,hidden_size)\n",
    "- 可将两者用于下游任务，例如分类等任务\n",
    "- pooler_output == model.pooler(last_hidden_state)\n"
   ]
  },
  {
   "cell_type": "code",
   "execution_count": 21,
   "id": "59351467",
   "metadata": {},
   "outputs": [
    {
     "name": "stderr",
     "output_type": "stream",
     "text": [
      "BertSdpaSelfAttention is used but `torch.nn.functional.scaled_dot_product_attention` does not support non-absolute `position_embedding_type` or `output_attentions=True` or `head_mask`. Falling back to the manual attention implementation, but specifying the manual implementation will be required from Transformers version v5.0.0 onwards. This warning can be removed using the argument `attn_implementation=\"eager\"` when loading the model.\n"
     ]
    }
   ],
   "source": [
    "input = tokenizer(sentences,return_tensors=\"pt\")\n",
    "output = model(**input.to(\"cuda\"))\n"
   ]
  },
  {
   "cell_type": "markdown",
   "id": "6d5df63d",
   "metadata": {},
   "source": [
    "### tokenizer "
   ]
  },
  {
   "cell_type": "markdown",
   "id": "8247e5a6",
   "metadata": {},
   "source": [
    "1.查看分词情况:\n",
    "- tokenizer.tokenize(sentences)\n",
    "\n",
    "2.编码解码\n",
    "- tokenizer.encode(sentences) = tokenizer.convert_tokens_to_ids()\n",
    "- tokenizer.decode(senteencs) = tokenizer.convert_ids_to_tokens()\n",
    "\n",
    "3.特殊编码\n",
    "- tokenizer.special_tokens_map\n",
    "\n",
    "4.词汇表\n",
    "- tokenizer.vocab\n",
    "\n",
    "5.输出解析\n",
    "- ipute_ids:对输入进行vocal表的映射，即将自然语言转换成模型理解的语言\n",
    "- attention_mask:可以理解为对词的关注\n",
    "    - 如果有很多句子，len(attention_mask)等于最长句子的长度，目的是为了能够批次化输入，确保所有句子的输入长度都是一样的，跟padding=True相结合理解\n",
    "- token_type_ids:用于区分不同的句子，len(token_type_ids)==len(attention_mask),一般用于句子对,相应的任务,可以理解为用于预测下一个句子是什么\n",
    "\n",
    "6.模型最大输入长度\n",
    "- tokenizer.model_max_length"
   ]
  },
  {
   "cell_type": "markdown",
   "id": "977c1f03",
   "metadata": {},
   "source": [
    "### attention解析\n",
    "\n",
    "\n",
    "$$Attention(Q,K,V) = softmax(\\frac{QK^{T}}{\\sqrt {d_k}})V$$"
   ]
  },
  {
   "cell_type": "markdown",
   "id": "4d8e0644",
   "metadata": {},
   "source": [
    "- output.attentions[0].shape 维度:(batch_size,num_heads,tokens_length,tokens_length)\n",
    "- model.encoder.layer[0].attention.self.query.weight.T[:,:64]\n",
    "    - 表示的是第一头的参数"
   ]
  },
  {
   "cell_type": "code",
   "execution_count": null,
   "id": "e57cec55",
   "metadata": {},
   "outputs": [
    {
     "data": {
      "text/plain": [
       "tensor([[0.0777, 0.1372, 0.0554, 0.1955, 0.0559, 0.0735, 0.4049],\n",
       "        [0.2865, 0.0584, 0.2193, 0.0441, 0.1009, 0.1757, 0.1150],\n",
       "        [0.2156, 0.0881, 0.1929, 0.0755, 0.1443, 0.2072, 0.0762],\n",
       "        [0.1419, 0.1552, 0.1616, 0.1128, 0.1338, 0.2101, 0.0847],\n",
       "        [0.0772, 0.0861, 0.2310, 0.0518, 0.0810, 0.2867, 0.1864],\n",
       "        [0.1058, 0.0736, 0.2011, 0.0416, 0.3280, 0.1485, 0.1014],\n",
       "        [0.1396, 0.1613, 0.0944, 0.1794, 0.0649, 0.1575, 0.2029]],\n",
       "       device='cuda:0', grad_fn=<SelectBackward0>)"
      ]
     },
     "execution_count": 41,
     "metadata": {},
     "output_type": "execute_result"
    }
   ],
   "source": [
    "## 获取第0层的第0个头的attention\n",
    "output.attentions[0][0][0]"
   ]
  },
  {
   "cell_type": "code",
   "execution_count": null,
   "id": "47b236a3",
   "metadata": {},
   "outputs": [],
   "source": [
    "## torch.Size([1, 7, 768])\n",
    "embedding = model.embeddings(input.input_ids,input.token_type_ids)"
   ]
  },
  {
   "cell_type": "code",
   "execution_count": null,
   "id": "13ed03cf",
   "metadata": {},
   "outputs": [],
   "source": [
    "Q_parameter = model.encoder.layer[0].attention.self.query.weight.T[:,:64] ## [768,64]\n",
    "Q_bias = model.encoder.layer[0].attention.self.query.bias[:64] ##[64]\n",
    "K_parameter = model.encoder.layer[0].attention.self.key.weight.T[:,:64] ## [768,64]\n",
    "K_bias = model.encoder.layer[0].attention.self.key.bias[:64] ##[64]\n",
    "V_parameter = model.encoder.layer[0].attention.self.value.weight.T[:,:64]  ## [768,64]\n",
    "V_bias = model.encoder.layer[0].attention.self.value.bias[:64] ##[64]"
   ]
  },
  {
   "cell_type": "code",
   "execution_count": null,
   "id": "8986c59c",
   "metadata": {},
   "outputs": [
    {
     "data": {
      "text/plain": [
       "tensor([[0.0777, 0.1372, 0.0554, 0.1955, 0.0559, 0.0735, 0.4049],\n",
       "        [0.2865, 0.0584, 0.2193, 0.0441, 0.1009, 0.1757, 0.1150],\n",
       "        [0.2156, 0.0881, 0.1929, 0.0755, 0.1443, 0.2072, 0.0762],\n",
       "        [0.1419, 0.1552, 0.1616, 0.1128, 0.1338, 0.2101, 0.0847],\n",
       "        [0.0772, 0.0861, 0.2310, 0.0518, 0.0810, 0.2867, 0.1864],\n",
       "        [0.1058, 0.0736, 0.2011, 0.0416, 0.3280, 0.1485, 0.1014],\n",
       "        [0.1396, 0.1613, 0.0944, 0.1794, 0.0649, 0.1575, 0.2029]],\n",
       "       device='cuda:0', grad_fn=<SoftmaxBackward0>)"
      ]
     },
     "execution_count": 97,
     "metadata": {},
     "output_type": "execute_result"
    }
   ],
   "source": [
    "import math\n",
    "Q = embedding[0] @ Q_parameter + Q_bias ## [7, 64]\n",
    "K = embedding[0] @ K_parameter + K_bias ## [7, 64]\n",
    "QKt = Q @ K.T ## [7, 7]\n",
    "QKt = QKt / (math.sqrt(64))  \n",
    "softmax = torch.nn.Softmax(dim=-1)\n",
    "attention = softmax(QKt)\n",
    "attention"
   ]
  },
  {
   "cell_type": "code",
   "execution_count": null,
   "id": "1c0308a8",
   "metadata": {},
   "outputs": [
    {
     "data": {
      "text/plain": [
       "torch.Size([7, 64])"
      ]
     },
     "execution_count": 99,
     "metadata": {},
     "output_type": "execute_result"
    }
   ],
   "source": [
    "V = embedding[0] @ V_parameter + V_bias ## [7, 64]\n",
    "attention_embedding = attention @ V ## [7, 64]\n",
    "attention_embedding ## 下一层的输入，但是只有一个头，真正的输入是多个头拼接的结果（12个头）"
   ]
  },
  {
   "cell_type": "markdown",
   "id": "8d9a0e35",
   "metadata": {},
   "source": [
    "### bert过程\n",
    "![](./attention%20is%20all%20you%20need.jpg)"
   ]
  },
  {
   "cell_type": "code",
   "execution_count": 145,
   "id": "44461009",
   "metadata": {},
   "outputs": [],
   "source": [
    "token_embedding = output.hidden_states[0]"
   ]
  },
  {
   "cell_type": "code",
   "execution_count": 157,
   "id": "14bcc28f",
   "metadata": {},
   "outputs": [],
   "source": [
    "### multi-head attention 过程\n",
    "multi_head_attention = model.encoder.layer[0].attention.self(token_embedding)\n",
    "\n",
    "### 第一次 Add&Norm 过程\n",
    "add_norm = model.encoder.layer[0].attention.output(multi_head_attention[0],token_embedding)\n",
    "\n",
    "### Feed Forward 过程\n",
    "feed_forward = model.encoder.layer[0].intermediate(add_norm)\n",
    "\n",
    "### 第二次 Add&Norm 过程\n",
    "add_norm_ff = model.encoder.layer[0].output(feed_forward, add_norm)"
   ]
  },
  {
   "cell_type": "code",
   "execution_count": 151,
   "id": "65772d26",
   "metadata": {},
   "outputs": [
    {
     "data": {
      "text/plain": [
       "(tensor([[[ 0.2979,  0.0801, -0.0037,  ..., -0.0142,  0.1290,  0.0828],\n",
       "          [ 0.3935,  0.1356, -0.0920,  ...,  0.0211,  0.1677,  0.0011],\n",
       "          [ 0.1696,  0.1449, -0.1039,  ...,  0.1604,  0.2172,  0.0310],\n",
       "          ...,\n",
       "          [-0.0617,  0.1968, -0.0669,  ...,  0.1126,  0.1933, -0.0204],\n",
       "          [-0.2835,  0.1495, -0.0021,  ...,  0.0973,  0.1865, -0.0636],\n",
       "          [ 0.2575,  0.1120, -0.1008,  ...,  0.0175,  0.1508,  0.0878]]],\n",
       "        device='cuda:0', grad_fn=<ViewBackward0>),)"
      ]
     },
     "execution_count": 151,
     "metadata": {},
     "output_type": "execute_result"
    }
   ],
   "source": [
    "multi_head_attention"
   ]
  },
  {
   "cell_type": "code",
   "execution_count": 155,
   "id": "dd07b956",
   "metadata": {},
   "outputs": [
    {
     "data": {
      "text/plain": [
       "BertLayer(\n",
       "  (attention): BertAttention(\n",
       "    (self): BertSdpaSelfAttention(\n",
       "      (query): Linear(in_features=768, out_features=768, bias=True)\n",
       "      (key): Linear(in_features=768, out_features=768, bias=True)\n",
       "      (value): Linear(in_features=768, out_features=768, bias=True)\n",
       "      (dropout): Dropout(p=0.1, inplace=False)\n",
       "    )\n",
       "    (output): BertSelfOutput(\n",
       "      (dense): Linear(in_features=768, out_features=768, bias=True)\n",
       "      (LayerNorm): LayerNorm((768,), eps=1e-12, elementwise_affine=True)\n",
       "      (dropout): Dropout(p=0.1, inplace=False)\n",
       "    )\n",
       "  )\n",
       "  (intermediate): BertIntermediate(\n",
       "    (dense): Linear(in_features=768, out_features=3072, bias=True)\n",
       "    (intermediate_act_fn): GELUActivation()\n",
       "  )\n",
       "  (output): BertOutput(\n",
       "    (dense): Linear(in_features=3072, out_features=768, bias=True)\n",
       "    (LayerNorm): LayerNorm((768,), eps=1e-12, elementwise_affine=True)\n",
       "    (dropout): Dropout(p=0.1, inplace=False)\n",
       "  )\n",
       ")"
      ]
     },
     "execution_count": 155,
     "metadata": {},
     "output_type": "execute_result"
    }
   ],
   "source": [
    "model.encoder.layer[0]"
   ]
  },
  {
   "cell_type": "code",
   "execution_count": null,
   "id": "5208ca3b",
   "metadata": {},
   "outputs": [],
   "source": []
  }
 ],
 "metadata": {
  "kernelspec": {
   "display_name": "llm",
   "language": "python",
   "name": "python3"
  },
  "language_info": {
   "codemirror_mode": {
    "name": "ipython",
    "version": 3
   },
   "file_extension": ".py",
   "mimetype": "text/x-python",
   "name": "python",
   "nbconvert_exporter": "python",
   "pygments_lexer": "ipython3",
   "version": "3.10.18"
  }
 },
 "nbformat": 4,
 "nbformat_minor": 5
}
