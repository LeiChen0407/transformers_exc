{
 "cells": [
  {
   "cell_type": "markdown",
   "id": "5ee13149",
   "metadata": {
    "vscode": {
     "languageId": "plaintext"
    }
   },
   "source": [
    "## tokenizer"
   ]
  },
  {
   "cell_type": "markdown",
   "id": "c3f41a95",
   "metadata": {},
   "source": []
  }
 ],
 "metadata": {
  "language_info": {
   "name": "python"
  }
 },
 "nbformat": 4,
 "nbformat_minor": 5
}
